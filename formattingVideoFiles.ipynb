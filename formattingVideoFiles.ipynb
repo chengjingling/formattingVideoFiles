{
 "cells": [
  {
   "cell_type": "markdown",
   "id": "9efa60fc",
   "metadata": {},
   "source": [
    "# Exercise 3\n",
    "This exercise aims to examine a set of video files using ffprobe, and convert them into the specified format using ffmpeg.\n",
    "## Generating a report of problematic fields\n",
    "The following code analyses the ffprobe output of each video file and lists the fields that do not match the specified format in a text file report.txt."
   ]
  },
  {
   "cell_type": "code",
   "execution_count": 1,
   "id": "201febf0",
   "metadata": {},
   "outputs": [],
   "source": [
    "import subprocess\n",
    "import re\n",
    "from fractions import Fraction\n",
    "\n",
    "video_files = ['Cosmos_War_of_the_Planets.mp4', 'Last_man_on_earth_1964.mov', 'The_Gun_and_the_Pulpit.avi', 'The_Hill_Gang_Rides_Again.mp4', 'Voyage_to_the_Planet_of_Prehistoric_Women.mp4']\n",
    "\n",
    "# Open report.txt in write mode\n",
    "with open('report.txt', 'w') as file:\n",
    "    for video_file in video_files:\n",
    "        # Run ffprobe command\n",
    "        command = f'ffprobe {video_file} -hide_banner'\n",
    "        output = subprocess.check_output(command, shell=True, stderr=subprocess.STDOUT, text=True)\n",
    "\n",
    "        stream_indexes = []\n",
    "        start = 0\n",
    "\n",
    "        # Get starting index of each stream\n",
    "        while True:\n",
    "            start = output.find('Stream', start)\n",
    "\n",
    "            if start == -1:\n",
    "                break\n",
    "\n",
    "            stream_indexes.append(start)\n",
    "            start += 1\n",
    "\n",
    "        streams = {}\n",
    "\n",
    "        # Save each stream in a dictionary\n",
    "        for stream_index in stream_indexes:\n",
    "            type = output[stream_index + output[stream_index :].find(': ') + 2 : stream_index + output[stream_index :].find(': ') + 2 + output[stream_index + output[stream_index :].find(': ') + 2 :].find(':')]\n",
    "            streams[type] = stream_index\n",
    "\n",
    "        # Get each field from the output\n",
    "        video_codec = output[streams['Video'] + output[streams['Video'] :].find('Video') + 7 : streams['Video'] + output[streams['Video'] :].find(' (')]\n",
    "        audio_codec = output[streams['Audio'] + output[streams['Audio'] :].find('Audio') + 7 : streams['Audio'] + output[streams['Audio'] :].find(' (')]\n",
    "        frame_rate = output[output[: output.find('fps')].rfind(',') + 2 : output.find(' fps')]\n",
    "        resolution = re.search(r'\\d{3,4}x\\d{3,4}', output).group(0)\n",
    "        video_bit_rate = output[output[: streams['Video'] + output[streams['Video'] :].find('kb/s')].rfind(',') + 2 : streams['Video'] + output[streams['Video'] :].find(' kb/s')]\n",
    "        audio_bit_rate = output[output[: streams['Audio'] + output[streams['Audio'] :].find('kb/s')].rfind(',') + 2 : streams['Audio'] + output[streams['Audio'] :].find(' kb/s')]\n",
    "        audio_channels = output[streams['Audio'] + output[streams['Audio'] :].find('Hz') + 4 : streams['Audio'] + output[streams['Audio'] :].find('Hz') + 4 + output[streams['Audio'] + output[streams['Audio'] :].find('Hz') + 4 :].find(',')]\n",
    "\n",
    "        aspect_ratio_index = output.find('DAR')\n",
    "\n",
    "        if aspect_ratio_index != -1:\n",
    "            aspect_ratio = output[aspect_ratio_index + 4 : aspect_ratio_index + output[aspect_ratio_index :].find(',')]\n",
    "\n",
    "            if aspect_ratio[-1] == ']':\n",
    "                aspect_ratio = aspect_ratio[:-1]\n",
    "\n",
    "        else:\n",
    "            width, height = resolution.split('x')\n",
    "            aspect_ratio_fraction = Fraction(int(width), int(height))\n",
    "            aspect_ratio = f'{aspect_ratio_fraction.numerator}:{aspect_ratio_fraction.denominator}'\n",
    "        \n",
    "        # If field does not match the specified format, write it in the report.txt file\n",
    "        file.write(f'{video_file}\\n')\n",
    "        \n",
    "        if video_file.split('.')[1] != 'mp4':\n",
    "            file.write(f'Video format (container) is {video_file.split(\".\")[1]} instead of mp4\\n')\n",
    "            \n",
    "        if video_codec != 'h264':\n",
    "            file.write(f'Video codec is {video_codec} instead of h264\\n')\n",
    "            \n",
    "        if audio_codec != 'aac':\n",
    "            file.write(f'Audio codec is {audio_codec} instead of aac\\n')\n",
    "            \n",
    "        if frame_rate != '25':\n",
    "            file.write(f'Frame rate is {frame_rate} fps instead of 25 fps\\n')\n",
    "            \n",
    "        if aspect_ratio != '16:9':\n",
    "            file.write(f'Aspect ratio is {aspect_ratio} instead of 16:9\\n')\n",
    "            \n",
    "        if resolution != '640x360':\n",
    "            file.write(f'Resolution is {resolution} instead of 640x360\\n')\n",
    "            \n",
    "        if int(video_bit_rate) < 2000 or int(video_bit_rate) > 5000:\n",
    "            file.write(f'Video bit rate is {video_bit_rate} kb/s, should be between 2000-5000 kb/s\\n')\n",
    "            \n",
    "        if int(audio_bit_rate) > 256:\n",
    "            file.write(f'Audio bit rate is {audio_bit_rate} kb/s, should be a maximum of 256 kb/s\\n')\n",
    "            \n",
    "        if audio_channels != 'stereo' and audio_channels != '2 channels':\n",
    "            file.write(f'Audio channels is {audio_channels} instead of stereo\\n')\n",
    "            \n",
    "        file.write('\\n')"
   ]
  },
  {
   "cell_type": "markdown",
   "id": "456e7712",
   "metadata": {},
   "source": [
    "## Converting problematic fields using ffmpeg\n",
    "After identifying the problematic fields, the next step is to convert them into the specified format.\n",
    "### Cosmos_War_of_the_Planets.mp4\n",
    "For this video file, I converted the frame rate, aspect ratio, resolution and audio bit rate. I also converted the video bit rate as it fell out of range after the other fields were converted."
   ]
  },
  {
   "cell_type": "code",
   "execution_count": 2,
   "id": "0432f3af",
   "metadata": {},
   "outputs": [
    {
     "name": "stdout",
     "output_type": "stream",
     "text": [
      "Input #0, mov,mp4,m4a,3gp,3g2,mj2, from 'Cosmos_War_of_the_Planets.mp4':\n",
      "  Metadata:\n",
      "    major_brand     : mp42\n",
      "    minor_version   : 0\n",
      "    compatible_brands: mp42mp41\n",
      "    creation_time   : 2021-08-02T19:15:48.000000Z\n",
      "  Duration: 00:00:20.02, start: 0.000000, bitrate: 3315 kb/s\n",
      "  Stream #0:0[0x1](eng): Video: h264 (Main) (avc1 / 0x31637661), yuv420p(progressive), 628x354 [SAR 1:1 DAR 314:177], 2989 kb/s, 29.97 fps, 29.97 tbr, 30k tbn (default)\n",
      "    Metadata:\n",
      "      creation_time   : 2021-08-02T19:15:48.000000Z\n",
      "      handler_name    : ?Mainconcept Video Media Handler\n",
      "      vendor_id       : [0][0][0][0]\n",
      "      encoder         : AVC Coding\n",
      "  Stream #0:1[0x2](eng): Audio: aac (LC) (mp4a / 0x6134706D), 48000 Hz, stereo, fltp, 317 kb/s (default)\n",
      "    Metadata:\n",
      "      creation_time   : 2021-08-02T19:15:48.000000Z\n",
      "      handler_name    : #Mainconcept MP4 Sound Media Handler\n",
      "      vendor_id       : [0][0][0][0]\n",
      "Stream mapping:\n",
      "  Stream #0:0 -> #0:0 (h264 (native) -> h264 (libx264))\n",
      "  Stream #0:1 -> #0:1 (aac (native) -> aac (native))\n",
      "Press [q] to stop, [?] for help\n",
      "\u001b[1;36m[libx264 @ 0x11fe09e10] \u001b[0musing SAR=1/1\n",
      "\u001b[1;36m[libx264 @ 0x11fe09e10] \u001b[0musing cpu capabilities: ARMv8 NEON\n",
      "\u001b[1;36m[libx264 @ 0x11fe09e10] \u001b[0mprofile High, level 3.0, 4:2:0, 8-bit\n",
      "\u001b[1;36m[libx264 @ 0x11fe09e10] \u001b[0m264 - core 164 r3108 31e19f9 - H.264/MPEG-4 AVC codec - Copyleft 2003-2023 - http://www.videolan.org/x264.html - options: cabac=1 ref=3 deblock=1:0:0 analyse=0x3:0x113 me=hex subme=7 psy=1 psy_rd=1.00:0.00 mixed_ref=1 me_range=16 chroma_me=1 trellis=1 8x8dct=1 cqm=0 deadzone=21,11 fast_pskip=1 chroma_qp_offset=-2 threads=11 lookahead_threads=1 sliced_threads=0 nr=0 decimate=1 interlaced=0 bluray_compat=0 constrained_intra=0 bframes=3 b_pyramid=2 b_adapt=1 b_bias=0 direct=1 weightb=1 open_gop=0 weightp=2 keyint=250 keyint_min=25 scenecut=40 intra_refresh=0 rc_lookahead=40 rc=abr mbtree=1 bitrate=3000 ratetol=1.0 qcomp=0.60 qpmin=0 qpmax=69 qpstep=4 ip_ratio=1.40 aq=1:1.00\n",
      "Output #0, mp4, to 'Cosmos_War_of_the_Planets_formatOK.mp4':\n",
      "  Metadata:\n",
      "    major_brand     : mp42\n",
      "    minor_version   : 0\n",
      "    compatible_brands: mp42mp41\n",
      "    encoder         : Lavf60.16.100\n",
      "  Stream #0:0(eng): Video: h264 (avc1 / 0x31637661), yuv420p(tv, progressive), 640x360 [SAR 1:1 DAR 16:9], q=2-31, 3000 kb/s, 25 fps, 12800 tbn (default)\n",
      "    Metadata:\n",
      "      creation_time   : 2021-08-02T19:15:48.000000Z\n",
      "      handler_name    : ?Mainconcept Video Media Handler\n",
      "      vendor_id       : [0][0][0][0]\n",
      "      encoder         : Lavc60.31.102 libx264\n",
      "    Side data:\n",
      "      cpb: bitrate max/min/avg: 0/0/3000000 buffer size: 0 vbv_delay: N/A\n",
      "  Stream #0:1(eng): Audio: aac (LC) (mp4a / 0x6134706D), 48000 Hz, stereo, fltp, 256 kb/s (default)\n",
      "    Metadata:\n",
      "      creation_time   : 2021-08-02T19:15:48.000000Z\n",
      "      handler_name    : #Mainconcept MP4 Sound Media Handler\n",
      "      vendor_id       : [0][0][0][0]\n",
      "      encoder         : Lavc60.31.102 aac\n",
      "\u001b[1;35m[out#0/mp4 @ 0x600002ac4a80] \u001b[0mvideo:7294kB audio:601kB subtitle:0kB other streams:0kB global headers:0kB muxing overhead: 0.207462%\n",
      "frame=  502 fps=371 q=-1.0 Lsize=    7912kB time=00:00:20.01 bitrate=3238.9kbits/s dup=0 drop=98 speed=14.8x    \n",
      "\u001b[1;36m[libx264 @ 0x11fe09e10] \u001b[0mframe I:3     Avg QP: 9.22  size: 41021\n",
      "\u001b[1;36m[libx264 @ 0x11fe09e10] \u001b[0mframe P:127   Avg QP:10.00  size: 31222\n",
      "\u001b[1;36m[libx264 @ 0x11fe09e10] \u001b[0mframe B:372   Avg QP:12.97  size:  9087\n",
      "\u001b[1;36m[libx264 @ 0x11fe09e10] \u001b[0mconsecutive B-frames:  1.2%  0.0%  0.0% 98.8%\n",
      "\u001b[1;36m[libx264 @ 0x11fe09e10] \u001b[0mmb I  I16..4: 10.6% 63.2% 26.2%\n",
      "\u001b[1;36m[libx264 @ 0x11fe09e10] \u001b[0mmb P  I16..4:  4.3% 28.1%  8.0%  P16..4: 14.5% 25.6% 18.8%  0.0%  0.0%    skip: 0.7%\n",
      "\u001b[1;36m[libx264 @ 0x11fe09e10] \u001b[0mmb B  I16..4:  0.8%  3.5%  0.8%  B16..8: 32.4% 28.3% 12.4%  direct:11.6%  skip:10.2%  L0:42.1% L1:38.5% BI:19.4%\n",
      "\u001b[1;36m[libx264 @ 0x11fe09e10] \u001b[0mfinal ratefactor: 10.03\n",
      "\u001b[1;36m[libx264 @ 0x11fe09e10] \u001b[0m8x8 transform intra:68.8% inter:46.1%\n",
      "\u001b[1;36m[libx264 @ 0x11fe09e10] \u001b[0mcoded y,uvDC,uvAC intra: 89.1% 97.7% 96.9% inter: 51.2% 63.3% 33.0%\n",
      "\u001b[1;36m[libx264 @ 0x11fe09e10] \u001b[0mi16 v,h,dc,p: 28% 17% 25% 30%\n",
      "\u001b[1;36m[libx264 @ 0x11fe09e10] \u001b[0mi8 v,h,dc,ddl,ddr,vr,hd,vl,hu: 23% 23% 27%  3%  4%  5%  5%  4%  6%\n",
      "\u001b[1;36m[libx264 @ 0x11fe09e10] \u001b[0mi4 v,h,dc,ddl,ddr,vr,hd,vl,hu: 31% 19% 24%  4%  5%  5%  4%  4%  4%\n",
      "\u001b[1;36m[libx264 @ 0x11fe09e10] \u001b[0mi8c dc,h,v,p: 51% 22% 18%  8%\n",
      "\u001b[1;36m[libx264 @ 0x11fe09e10] \u001b[0mWeighted P-Frames: Y:11.0% UV:3.1%\n",
      "\u001b[1;36m[libx264 @ 0x11fe09e10] \u001b[0mref P L0: 59.3% 14.5% 19.3%  6.3%  0.6%\n",
      "\u001b[1;36m[libx264 @ 0x11fe09e10] \u001b[0mref B L0: 93.8%  5.1%  1.0%\n",
      "\u001b[1;36m[libx264 @ 0x11fe09e10] \u001b[0mref B L1: 98.2%  1.8%\n",
      "\u001b[1;36m[libx264 @ 0x11fe09e10] \u001b[0mkb/s:2975.61\n",
      "\u001b[1;36m[aac @ 0x11fe84590] \u001b[0mQavg: 42825.062\n"
     ]
    }
   ],
   "source": [
    "!ffmpeg -hide_banner -y -i Cosmos_War_of_the_Planets.mp4 -r 25 -aspect 16:9 -s 640x360 -b:v 3000k -b:a 256k Cosmos_War_of_the_Planets_formatOK.mp4"
   ]
  },
  {
   "cell_type": "markdown",
   "id": "33d58692",
   "metadata": {},
   "source": [
    "#### Before"
   ]
  },
  {
   "cell_type": "code",
   "execution_count": 3,
   "id": "d969be5f",
   "metadata": {
    "scrolled": true
   },
   "outputs": [
    {
     "name": "stdout",
     "output_type": "stream",
     "text": [
      "Input #0, mov,mp4,m4a,3gp,3g2,mj2, from 'Cosmos_War_of_the_Planets.mp4':\r\n",
      "  Metadata:\r\n",
      "    major_brand     : mp42\r\n",
      "    minor_version   : 0\r\n",
      "    compatible_brands: mp42mp41\r\n",
      "    creation_time   : 2021-08-02T19:15:48.000000Z\r\n",
      "  Duration: 00:00:20.02, start: 0.000000, bitrate: 3315 kb/s\r\n",
      "  Stream #0:0[0x1](eng): Video: h264 (Main) (avc1 / 0x31637661), yuv420p(progressive), 628x354 [SAR 1:1 DAR 314:177], 2989 kb/s, 29.97 fps, 29.97 tbr, 30k tbn (default)\r\n",
      "    Metadata:\r\n",
      "      creation_time   : 2021-08-02T19:15:48.000000Z\r\n",
      "      handler_name    : ?Mainconcept Video Media Handler\r\n",
      "      vendor_id       : [0][0][0][0]\r\n",
      "      encoder         : AVC Coding\r\n",
      "  Stream #0:1[0x2](eng): Audio: aac (LC) (mp4a / 0x6134706D), 48000 Hz, stereo, fltp, 317 kb/s (default)\r\n",
      "    Metadata:\r\n",
      "      creation_time   : 2021-08-02T19:15:48.000000Z\r\n",
      "      handler_name    : #Mainconcept MP4 Sound Media Handler\r\n",
      "      vendor_id       : [0][0][0][0]\r\n"
     ]
    }
   ],
   "source": [
    "!ffprobe Cosmos_War_of_the_Planets.mp4 -hide_banner"
   ]
  },
  {
   "cell_type": "markdown",
   "id": "46c58344",
   "metadata": {},
   "source": [
    "#### After"
   ]
  },
  {
   "cell_type": "code",
   "execution_count": 4,
   "id": "9c8dfe2a",
   "metadata": {},
   "outputs": [
    {
     "name": "stdout",
     "output_type": "stream",
     "text": [
      "Input #0, mov,mp4,m4a,3gp,3g2,mj2, from 'Cosmos_War_of_the_Planets_formatOK.mp4':\n",
      "  Metadata:\n",
      "    major_brand     : isom\n",
      "    minor_version   : 512\n",
      "    compatible_brands: isomiso2avc1mp41\n",
      "    encoder         : Lavf60.16.100\n",
      "  Duration: 00:00:20.08, start: 0.000000, bitrate: 3227 kb/s\n",
      "  Stream #0:0[0x1](eng): Video: h264 (High) (avc1 / 0x31637661), yuv420p(progressive), 640x360 [SAR 1:1 DAR 16:9], 2975 kb/s, 25 fps, 25 tbr, 12800 tbn (default)\n",
      "    Metadata:\n",
      "      handler_name    : ?Mainconcept Video Media Handler\n",
      "      vendor_id       : [0][0][0][0]\n",
      "      encoder         : Lavc60.31.102 libx264\n",
      "  Stream #0:1[0x2](eng): Audio: aac (LC) (mp4a / 0x6134706D), 48000 Hz, stereo, fltp, 245 kb/s (default)\n",
      "    Metadata:\n",
      "      handler_name    : #Mainconcept MP4 Sound Media Handler\n",
      "      vendor_id       : [0][0][0][0]\n"
     ]
    }
   ],
   "source": [
    "!ffprobe Cosmos_War_of_the_Planets_formatOK.mp4 -hide_banner"
   ]
  },
  {
   "cell_type": "markdown",
   "id": "6b05cf44",
   "metadata": {},
   "source": [
    "### Last_man_on_earth_1964.mov\n",
    "For this video file, I converted the video format (container), video codec, audio codec, frame rate, video bit rate and audio bit rate."
   ]
  },
  {
   "cell_type": "code",
   "execution_count": 5,
   "id": "2bcbf628",
   "metadata": {
    "scrolled": false
   },
   "outputs": [
    {
     "name": "stdout",
     "output_type": "stream",
     "text": [
      "Input #0, mov,mp4,m4a,3gp,3g2,mj2, from 'Last_man_on_earth_1964.mov':\n",
      "  Metadata:\n",
      "    major_brand     : qt  \n",
      "    minor_version   : 537199360\n",
      "    compatible_brands: qt  \n",
      "    creation_time   : 2021-08-02T18:38:19.000000Z\n",
      "  Duration: 00:00:20.02, start: 0.000000, bitrate: 11240 kb/s\n",
      "  Stream #0:0[0x1](eng): Video: prores (LT) (apcs / 0x73637061), yuv422p10le(smpte170m/smpte170m/bt709, progressive), 640x360, 9285 kb/s, SAR 1:1 DAR 16:9, 23.98 fps, 23.98 tbr, 24k tbn (default)\n",
      "    Metadata:\n",
      "      creation_time   : 2021-08-02T18:38:19.000000Z\n",
      "      handler_name    : Apple Video Media Handler\n",
      "      vendor_id       : appl\n",
      "      encoder         : Apple ProRes 422 LT\n",
      "      timecode        : 00:51:43:11\n",
      "  Stream #0:1[0x2](eng): Audio: pcm_s16le (sowt / 0x74776F73), 48000 Hz, stereo, s16, 1536 kb/s (default)\n",
      "    Metadata:\n",
      "      creation_time   : 2021-08-02T18:38:19.000000Z\n",
      "      handler_name    : Apple Sound Media Handler\n",
      "      vendor_id       :     \n",
      "      timecode        : 00:51:43:11\n",
      "  Stream #0:2[0x3](eng): Data: none (tmcd / 0x64636D74), 0 kb/s (default)\n",
      "    Metadata:\n",
      "      creation_time   : 2021-08-02T18:38:19.000000Z\n",
      "      handler_name    : Time Code Media Handler\n",
      "      timecode        : 00:51:43:11\n",
      "Stream mapping:\n",
      "  Stream #0:0 -> #0:0 (prores (native) -> h264 (libx264))\n",
      "  Stream #0:1 -> #0:1 (pcm_s16le (native) -> aac (native))\n",
      "Press [q] to stop, [?] for help\n",
      "\u001b[1;36m[libx264 @ 0x134e0a4b0] \u001b[0musing SAR=1/1\n",
      "\u001b[1;36m[libx264 @ 0x134e0a4b0] \u001b[0musing cpu capabilities: ARMv8 NEON\n",
      "\u001b[1;36m[libx264 @ 0x134e0a4b0] \u001b[0mprofile High 4:2:2, level 3.0, 4:2:2, 10-bit\n",
      "\u001b[1;36m[libx264 @ 0x134e0a4b0] \u001b[0m264 - core 164 r3108 31e19f9 - H.264/MPEG-4 AVC codec - Copyleft 2003-2023 - http://www.videolan.org/x264.html - options: cabac=1 ref=3 deblock=1:0:0 analyse=0x3:0x113 me=hex subme=7 psy=1 psy_rd=1.00:0.00 mixed_ref=1 me_range=16 chroma_me=1 trellis=1 8x8dct=1 cqm=0 deadzone=21,11 fast_pskip=1 chroma_qp_offset=-2 threads=11 lookahead_threads=1 sliced_threads=0 nr=0 decimate=1 interlaced=0 bluray_compat=0 constrained_intra=0 bframes=3 b_pyramid=2 b_adapt=1 b_bias=0 direct=1 weightb=1 open_gop=0 weightp=2 keyint=250 keyint_min=25 scenecut=40 intra_refresh=0 rc_lookahead=40 rc=abr mbtree=1 bitrate=2000 ratetol=1.0 qcomp=0.60 qpmin=0 qpmax=81 qpstep=4 ip_ratio=1.40 aq=1:1.00\n",
      "Output #0, mp4, to 'Last_man_on_earth_1964_formatOK.mp4':\n",
      "  Metadata:\n",
      "    major_brand     : qt  \n",
      "    minor_version   : 537199360\n",
      "    compatible_brands: qt  \n",
      "    encoder         : Lavf60.16.100\n",
      "  Stream #0:0(eng): Video: h264 (avc1 / 0x31637661), yuv422p10le(tv, smpte170m/smpte170m/bt709, progressive), 640x360 [SAR 1:1 DAR 16:9], q=2-31, 2000 kb/s, 25 fps, 12800 tbn (default)\n",
      "    Metadata:\n",
      "      creation_time   : 2021-08-02T18:38:19.000000Z\n",
      "      handler_name    : Apple Video Media Handler\n",
      "      vendor_id       : appl\n",
      "      timecode        : 00:51:43:11\n",
      "      encoder         : Lavc60.31.102 libx264\n",
      "    Side data:\n",
      "      cpb: bitrate max/min/avg: 0/0/2000000 buffer size: 0 vbv_delay: N/A\n",
      "  Stream #0:1(eng): Audio: aac (LC) (mp4a / 0x6134706D), 48000 Hz, stereo, fltp, 128 kb/s (default)\n",
      "    Metadata:\n",
      "      creation_time   : 2021-08-02T18:38:19.000000Z\n",
      "      handler_name    : Apple Sound Media Handler\n",
      "      vendor_id       :     \n",
      "      timecode        : 00:51:43:11\n",
      "      encoder         : Lavc60.31.102 aac\n",
      "\u001b[1;35m[out#0/mp4 @ 0x60000311c840] \u001b[0mvideo:5101kB audio:313kB subtitle:0kB other streams:0kB global headers:0kB muxing overhead: 0.310104%\n",
      "frame=  501 fps=141 q=-1.0 Lsize=    5431kB time=00:00:20.01 bitrate=2223.3kbits/s dup=21 drop=0 speed=5.65x    \n",
      "\u001b[1;36m[libx264 @ 0x134e0a4b0] \u001b[0mframe I:6     Avg QP:18.14  size: 35456\n",
      "\u001b[1;36m[libx264 @ 0x134e0a4b0] \u001b[0mframe P:131   Avg QP:20.49  size: 22823\n",
      "\u001b[1;36m[libx264 @ 0x134e0a4b0] \u001b[0mframe B:364   Avg QP:23.79  size:  5549\n",
      "\u001b[1;36m[libx264 @ 0x134e0a4b0] \u001b[0mconsecutive B-frames:  1.8%  2.8%  3.6% 91.8%\n",
      "\u001b[1;36m[libx264 @ 0x134e0a4b0] \u001b[0mmb I  I16..4: 19.0% 67.9% 13.1%\n",
      "\u001b[1;36m[libx264 @ 0x134e0a4b0] \u001b[0mmb P  I16..4:  0.8% 34.2%  1.6%  P16..4: 22.4% 22.7% 15.1%  0.0%  0.0%    skip: 3.3%\n",
      "\u001b[1;36m[libx264 @ 0x134e0a4b0] \u001b[0mmb B  I16..4:  0.1%  6.8%  0.1%  B16..8: 35.7% 18.6%  6.4%  direct: 6.9%  skip:25.3%  L0:40.4% L1:32.6% BI:27.0%\n",
      "\u001b[1;36m[libx264 @ 0x134e0a4b0] \u001b[0mfinal ratefactor: 10.82\n",
      "\u001b[1;36m[libx264 @ 0x134e0a4b0] \u001b[0m8x8 transform intra:92.6% inter:63.5%\n",
      "\u001b[1;36m[libx264 @ 0x134e0a4b0] \u001b[0mcoded y,uvDC,uvAC intra: 81.3% 0.0% 0.0% inter: 35.8% 0.0% 0.0%\n",
      "\u001b[1;36m[libx264 @ 0x134e0a4b0] \u001b[0mi16 v,h,dc,p: 55% 28%  9%  8%\n",
      "\u001b[1;36m[libx264 @ 0x134e0a4b0] \u001b[0mi8 v,h,dc,ddl,ddr,vr,hd,vl,hu: 23% 16% 39%  3%  3%  4%  3%  4%  5%\n",
      "\u001b[1;36m[libx264 @ 0x134e0a4b0] \u001b[0mi4 v,h,dc,ddl,ddr,vr,hd,vl,hu: 41% 15%  9%  5%  6%  7%  5%  7%  6%\n",
      "\u001b[1;36m[libx264 @ 0x134e0a4b0] \u001b[0mi8c dc,h,v,p: 100%  0%  0%  0%\n",
      "\u001b[1;36m[libx264 @ 0x134e0a4b0] \u001b[0mWeighted P-Frames: Y:3.1% UV:0.0%\n",
      "\u001b[1;36m[libx264 @ 0x134e0a4b0] \u001b[0mref P L0: 71.8% 21.4%  6.6%  0.2%\n",
      "\u001b[1;36m[libx264 @ 0x134e0a4b0] \u001b[0mref B L0: 92.8%  6.1%  1.2%\n",
      "\u001b[1;36m[libx264 @ 0x134e0a4b0] \u001b[0mref B L1: 97.8%  2.2%\n",
      "\u001b[1;36m[libx264 @ 0x134e0a4b0] \u001b[0mkb/s:2084.83\n",
      "\u001b[1;36m[aac @ 0x134e120b0] \u001b[0mQavg: 628.616\n"
     ]
    }
   ],
   "source": [
    "!ffmpeg -hide_banner -y -i Last_man_on_earth_1964.mov -r 25 -b:v 2000k Last_man_on_earth_1964_formatOK.mp4"
   ]
  },
  {
   "cell_type": "markdown",
   "id": "92eb06a3",
   "metadata": {},
   "source": [
    "#### Before"
   ]
  },
  {
   "cell_type": "code",
   "execution_count": 6,
   "id": "549c5934",
   "metadata": {
    "scrolled": false
   },
   "outputs": [
    {
     "name": "stdout",
     "output_type": "stream",
     "text": [
      "Input #0, mov,mp4,m4a,3gp,3g2,mj2, from 'Last_man_on_earth_1964.mov':\n",
      "  Metadata:\n",
      "    major_brand     : qt  \n",
      "    minor_version   : 537199360\n",
      "    compatible_brands: qt  \n",
      "    creation_time   : 2021-08-02T18:38:19.000000Z\n",
      "  Duration: 00:00:20.02, start: 0.000000, bitrate: 11240 kb/s\n",
      "  Stream #0:0[0x1](eng): Video: prores (LT) (apcs / 0x73637061), yuv422p10le(smpte170m/smpte170m/bt709, progressive), 640x360, 9285 kb/s, SAR 1:1 DAR 16:9, 23.98 fps, 23.98 tbr, 24k tbn (default)\n",
      "    Metadata:\n",
      "      creation_time   : 2021-08-02T18:38:19.000000Z\n",
      "      handler_name    : Apple Video Media Handler\n",
      "      vendor_id       : appl\n",
      "      encoder         : Apple ProRes 422 LT\n",
      "      timecode        : 00:51:43:11\n",
      "  Stream #0:1[0x2](eng): Audio: pcm_s16le (sowt / 0x74776F73), 48000 Hz, stereo, s16, 1536 kb/s (default)\n",
      "    Metadata:\n",
      "      creation_time   : 2021-08-02T18:38:19.000000Z\n",
      "      handler_name    : Apple Sound Media Handler\n",
      "      vendor_id       :     \n",
      "      timecode        : 00:51:43:11\n",
      "  Stream #0:2[0x3](eng): Data: none (tmcd / 0x64636D74), 0 kb/s (default)\n",
      "    Metadata:\n",
      "      creation_time   : 2021-08-02T18:38:19.000000Z\n",
      "      handler_name    : Time Code Media Handler\n",
      "      timecode        : 00:51:43:11\n",
      "\u001b[0;33mUnsupported codec with id 0 for input stream 2\n",
      "\u001b[0m"
     ]
    }
   ],
   "source": [
    "!ffprobe Last_man_on_earth_1964.mov -hide_banner"
   ]
  },
  {
   "cell_type": "markdown",
   "id": "3114d627",
   "metadata": {},
   "source": [
    "#### After"
   ]
  },
  {
   "cell_type": "code",
   "execution_count": 7,
   "id": "1ada3f21",
   "metadata": {},
   "outputs": [
    {
     "name": "stdout",
     "output_type": "stream",
     "text": [
      "Input #0, mov,mp4,m4a,3gp,3g2,mj2, from 'Last_man_on_earth_1964_formatOK.mp4':\n",
      "  Metadata:\n",
      "    major_brand     : isom\n",
      "    minor_version   : 512\n",
      "    compatible_brands: isomiso2avc1mp41\n",
      "    encoder         : Lavf60.16.100\n",
      "  Duration: 00:00:20.04, start: 0.000000, bitrate: 2220 kb/s\n",
      "  Stream #0:0[0x1](eng): Video: h264 (High 4:2:2) (avc1 / 0x31637661), yuv422p10le(tv, smpte170m/smpte170m/bt709, progressive), 640x360 [SAR 1:1 DAR 16:9], 2085 kb/s, 25 fps, 25 tbr, 12800 tbn (default)\n",
      "    Metadata:\n",
      "      handler_name    : Apple Video Media Handler\n",
      "      vendor_id       : [0][0][0][0]\n",
      "      encoder         : Lavc60.31.102 libx264\n",
      "      timecode        : 00:51:43:11\n",
      "  Stream #0:1[0x2](eng): Audio: aac (LC) (mp4a / 0x6134706D), 48000 Hz, stereo, fltp, 128 kb/s (default)\n",
      "    Metadata:\n",
      "      handler_name    : Apple Sound Media Handler\n",
      "      vendor_id       : [0][0][0][0]\n",
      "  Stream #0:2[0x3](eng): Data: none (tmcd / 0x64636D74), 0 kb/s\n",
      "    Metadata:\n",
      "      handler_name    : Apple Video Media Handler\n",
      "      timecode        : 00:51:43:11\n",
      "\u001b[0;33mUnsupported codec with id 0 for input stream 2\n",
      "\u001b[0m"
     ]
    }
   ],
   "source": [
    "!ffprobe Last_man_on_earth_1964_formatOK.mp4 -hide_banner"
   ]
  },
  {
   "cell_type": "markdown",
   "id": "52144b42",
   "metadata": {},
   "source": [
    "### The_Gun_and_the_Pulpit.avi\n",
    "For this video file, I converted the video format (container), video codec, audio codec, aspect ratio, resolution, video bit rate, audio bit rate and audio channels."
   ]
  },
  {
   "cell_type": "code",
   "execution_count": 8,
   "id": "e908d905",
   "metadata": {
    "scrolled": false
   },
   "outputs": [
    {
     "name": "stdout",
     "output_type": "stream",
     "text": [
      "\u001b[0;35m[aist#0:1/pcm_s16le @ 0x1457062e0] \u001b[0m\u001b[0;33mGuessed Channel Layout: stereo\n",
      "\u001b[0mInput #0, avi, from 'The_Gun_and_the_Pulpit.avi':\n",
      "  Duration: 00:00:20.00, start: 0.000000, bitrate: 88809 kb/s\n",
      "  Stream #0:0: Video: rawvideo (IYUV / 0x56555949), yuv420p, 720x404, 87438 kb/s, 25 fps, 25 tbr, 25 tbn\n",
      "  Stream #0:1: Audio: pcm_s16le ([1][0][0][0] / 0x0001), 48000 Hz, 2 channels, s16, 1536 kb/s\n",
      "Stream mapping:\n",
      "  Stream #0:0 -> #0:0 (rawvideo (native) -> h264 (libx264))\n",
      "  Stream #0:1 -> #0:1 (pcm_s16le (native) -> aac (native))\n",
      "Press [q] to stop, [?] for help\n",
      "\u001b[1;36m[libx264 @ 0x145707810] \u001b[0musing SAR=1/1\n",
      "\u001b[1;36m[libx264 @ 0x145707810] \u001b[0musing cpu capabilities: ARMv8 NEON\n",
      "\u001b[1;36m[libx264 @ 0x145707810] \u001b[0mprofile High, level 3.0, 4:2:0, 8-bit\n",
      "\u001b[1;36m[libx264 @ 0x145707810] \u001b[0m264 - core 164 r3108 31e19f9 - H.264/MPEG-4 AVC codec - Copyleft 2003-2023 - http://www.videolan.org/x264.html - options: cabac=1 ref=3 deblock=1:0:0 analyse=0x3:0x113 me=hex subme=7 psy=1 psy_rd=1.00:0.00 mixed_ref=1 me_range=16 chroma_me=1 trellis=1 8x8dct=1 cqm=0 deadzone=21,11 fast_pskip=1 chroma_qp_offset=-2 threads=11 lookahead_threads=1 sliced_threads=0 nr=0 decimate=1 interlaced=0 bluray_compat=0 constrained_intra=0 bframes=3 b_pyramid=2 b_adapt=1 b_bias=0 direct=1 weightb=1 open_gop=0 weightp=2 keyint=250 keyint_min=25 scenecut=40 intra_refresh=0 rc_lookahead=40 rc=abr mbtree=1 bitrate=3000 ratetol=1.0 qcomp=0.60 qpmin=0 qpmax=69 qpstep=4 ip_ratio=1.40 aq=1:1.00\n",
      "Output #0, mp4, to 'The_Gun_and_the_Pulpit_formatOK.mp4':\n",
      "  Metadata:\n",
      "    encoder         : Lavf60.16.100\n",
      "  Stream #0:0: Video: h264 (avc1 / 0x31637661), yuv420p(tv, progressive), 640x360 [SAR 1:1 DAR 16:9], q=2-31, 3000 kb/s, 25 fps, 12800 tbn\n",
      "    Metadata:\n",
      "      encoder         : Lavc60.31.102 libx264\n",
      "    Side data:\n",
      "      cpb: bitrate max/min/avg: 0/0/3000000 buffer size: 0 vbv_delay: N/A\n",
      "  Stream #0:1: Audio: aac (LC) (mp4a / 0x6134706D), 48000 Hz, stereo, fltp, 128 kb/s\n",
      "    Metadata:\n",
      "      encoder         : Lavc60.31.102 aac\n",
      "\u001b[1;35m[out#0/mp4 @ 0x60000398c6c0] \u001b[0mvideo:7109kB audio:314kB subtitle:0kB other streams:0kB global headers:0kB muxing overhead: 0.215806%\n",
      "frame=  500 fps=382 q=-1.0 Lsize=    7440kB time=00:00:19.98 bitrate=3048.9kbits/s speed=15.3x    \n",
      "\u001b[1;36m[libx264 @ 0x145707810] \u001b[0mframe I:17    Avg QP: 9.70  size: 34932\n",
      "\u001b[1;36m[libx264 @ 0x145707810] \u001b[0mframe P:156   Avg QP:12.04  size: 23558\n",
      "\u001b[1;36m[libx264 @ 0x145707810] \u001b[0mframe B:327   Avg QP:14.26  size:  9205\n",
      "\u001b[1;36m[libx264 @ 0x145707810] \u001b[0mconsecutive B-frames: 10.0%  5.6%  8.4% 76.0%\n",
      "\u001b[1;36m[libx264 @ 0x145707810] \u001b[0mmb I  I16..4:  9.8% 43.5% 46.8%\n",
      "\u001b[1;36m[libx264 @ 0x145707810] \u001b[0mmb P  I16..4:  3.1% 31.5% 17.0%  P16..4: 14.2% 19.8% 12.5%  0.0%  0.0%    skip: 1.8%\n",
      "\u001b[1;36m[libx264 @ 0x145707810] \u001b[0mmb B  I16..4:  0.5%  6.4%  4.6%  B16..8: 31.5% 24.5% 10.0%  direct: 6.3%  skip:16.2%  L0:48.7% L1:37.5% BI:13.9%\n",
      "\u001b[1;36m[libx264 @ 0x145707810] \u001b[0mfinal ratefactor: 9.88\n",
      "\u001b[1;36m[libx264 @ 0x145707810] \u001b[0m8x8 transform intra:57.1% inter:48.5%\n",
      "\u001b[1;36m[libx264 @ 0x145707810] \u001b[0mcoded y,uvDC,uvAC intra: 89.6% 91.8% 80.8% inter: 45.0% 37.7% 15.7%\n",
      "\u001b[1;36m[libx264 @ 0x145707810] \u001b[0mi16 v,h,dc,p: 67% 11%  7% 15%\n",
      "\u001b[1;36m[libx264 @ 0x145707810] \u001b[0mi8 v,h,dc,ddl,ddr,vr,hd,vl,hu: 37% 21% 10%  3%  5%  6%  5%  6%  6%\n",
      "\u001b[1;36m[libx264 @ 0x145707810] \u001b[0mi4 v,h,dc,ddl,ddr,vr,hd,vl,hu: 36% 22% 10%  4%  6%  6%  7%  5%  5%\n",
      "\u001b[1;36m[libx264 @ 0x145707810] \u001b[0mi8c dc,h,v,p: 49% 15% 28%  7%\n",
      "\u001b[1;36m[libx264 @ 0x145707810] \u001b[0mWeighted P-Frames: Y:5.1% UV:1.9%\n",
      "\u001b[1;36m[libx264 @ 0x145707810] \u001b[0mref P L0: 73.4% 11.1% 12.0%  3.5%  0.0%\n",
      "\u001b[1;36m[libx264 @ 0x145707810] \u001b[0mref B L0: 94.9%  4.4%  0.7%\n",
      "\u001b[1;36m[libx264 @ 0x145707810] \u001b[0mref B L1: 98.4%  1.6%\n",
      "\u001b[1;36m[libx264 @ 0x145707810] \u001b[0mkb/s:2911.65\n",
      "\u001b[1;36m[aac @ 0x1457093d0] \u001b[0mQavg: 681.254\n"
     ]
    }
   ],
   "source": [
    "!ffmpeg -hide_banner -y -i The_Gun_and_the_Pulpit.avi -aspect 16:9 -s 640x360 -b:v 3000k The_Gun_and_the_Pulpit_formatOK.mp4"
   ]
  },
  {
   "cell_type": "markdown",
   "id": "c7c2273e",
   "metadata": {},
   "source": [
    "#### Before"
   ]
  },
  {
   "cell_type": "code",
   "execution_count": 9,
   "id": "4d06cf3c",
   "metadata": {},
   "outputs": [
    {
     "name": "stdout",
     "output_type": "stream",
     "text": [
      "Input #0, avi, from 'The_Gun_and_the_Pulpit.avi':\n",
      "  Duration: 00:00:20.00, start: 0.000000, bitrate: 88809 kb/s\n",
      "  Stream #0:0: Video: rawvideo (IYUV / 0x56555949), yuv420p, 720x404, 87438 kb/s, 25 fps, 25 tbr, 25 tbn\n",
      "  Stream #0:1: Audio: pcm_s16le ([1][0][0][0] / 0x0001), 48000 Hz, 2 channels, s16, 1536 kb/s\n"
     ]
    }
   ],
   "source": [
    "!ffprobe The_Gun_and_the_Pulpit.avi -hide_banner"
   ]
  },
  {
   "cell_type": "markdown",
   "id": "c2882cd8",
   "metadata": {},
   "source": [
    "#### After"
   ]
  },
  {
   "cell_type": "code",
   "execution_count": 10,
   "id": "cf3b2dbc",
   "metadata": {},
   "outputs": [
    {
     "name": "stdout",
     "output_type": "stream",
     "text": [
      "Input #0, mov,mp4,m4a,3gp,3g2,mj2, from 'The_Gun_and_the_Pulpit_formatOK.mp4':\n",
      "  Metadata:\n",
      "    major_brand     : isom\n",
      "    minor_version   : 512\n",
      "    compatible_brands: isomiso2avc1mp41\n",
      "    encoder         : Lavf60.16.100\n",
      "  Duration: 00:00:20.00, start: 0.000000, bitrate: 3047 kb/s\n",
      "  Stream #0:0[0x1](und): Video: h264 (High) (avc1 / 0x31637661), yuv420p(progressive), 640x360 [SAR 1:1 DAR 16:9], 2911 kb/s, 25 fps, 25 tbr, 12800 tbn (default)\n",
      "    Metadata:\n",
      "      handler_name    : VideoHandler\n",
      "      vendor_id       : [0][0][0][0]\n",
      "      encoder         : Lavc60.31.102 libx264\n",
      "  Stream #0:1[0x2](und): Audio: aac (LC) (mp4a / 0x6134706D), 48000 Hz, stereo, fltp, 128 kb/s (default)\n",
      "    Metadata:\n",
      "      handler_name    : SoundHandler\n",
      "      vendor_id       : [0][0][0][0]\n"
     ]
    }
   ],
   "source": [
    "!ffprobe The_Gun_and_the_Pulpit_formatOK.mp4 -hide_banner"
   ]
  },
  {
   "cell_type": "markdown",
   "id": "51baa672",
   "metadata": {},
   "source": [
    "### The_Hill_Gang_Rides_Again.mp4\n",
    "For this video file, I converted the video bit rate."
   ]
  },
  {
   "cell_type": "code",
   "execution_count": 11,
   "id": "53fc96d0",
   "metadata": {},
   "outputs": [
    {
     "name": "stdout",
     "output_type": "stream",
     "text": [
      "Input #0, mov,mp4,m4a,3gp,3g2,mj2, from 'The_Hill_Gang_Rides_Again.mp4':\n",
      "  Metadata:\n",
      "    major_brand     : mp42\n",
      "    minor_version   : 0\n",
      "    compatible_brands: mp42mp41\n",
      "    creation_time   : 2021-08-02T18:46:51.000000Z\n",
      "  Duration: 00:00:20.00, start: 0.000000, bitrate: 7799 kb/s\n",
      "  Stream #0:0[0x1](eng): Video: h264 (Main) (avc1 / 0x31637661), yuv420p(progressive), 640x360 [SAR 1:1 DAR 16:9], 7537 kb/s, 25 fps, 25 tbr, 25k tbn (default)\n",
      "    Metadata:\n",
      "      creation_time   : 2021-08-02T18:46:51.000000Z\n",
      "      handler_name    : ?Mainconcept Video Media Handler\n",
      "      vendor_id       : [0][0][0][0]\n",
      "      encoder         : AVC Coding\n",
      "  Stream #0:1[0x2](eng): Audio: aac (LC) (mp4a / 0x6134706D), 44100 Hz, stereo, fltp, 253 kb/s (default)\n",
      "    Metadata:\n",
      "      creation_time   : 2021-08-02T18:46:51.000000Z\n",
      "      handler_name    : #Mainconcept MP4 Sound Media Handler\n",
      "      vendor_id       : [0][0][0][0]\n",
      "Stream mapping:\n",
      "  Stream #0:0 -> #0:0 (h264 (native) -> h264 (libx264))\n",
      "  Stream #0:1 -> #0:1 (aac (native) -> aac (native))\n",
      "Press [q] to stop, [?] for help\n",
      "\u001b[1;36m[libx264 @ 0x143e08e30] \u001b[0musing SAR=1/1\n",
      "\u001b[1;36m[libx264 @ 0x143e08e30] \u001b[0musing cpu capabilities: ARMv8 NEON\n",
      "\u001b[1;36m[libx264 @ 0x143e08e30] \u001b[0mprofile High, level 3.0, 4:2:0, 8-bit\n",
      "\u001b[1;36m[libx264 @ 0x143e08e30] \u001b[0m264 - core 164 r3108 31e19f9 - H.264/MPEG-4 AVC codec - Copyleft 2003-2023 - http://www.videolan.org/x264.html - options: cabac=1 ref=3 deblock=1:0:0 analyse=0x3:0x113 me=hex subme=7 psy=1 psy_rd=1.00:0.00 mixed_ref=1 me_range=16 chroma_me=1 trellis=1 8x8dct=1 cqm=0 deadzone=21,11 fast_pskip=1 chroma_qp_offset=-2 threads=11 lookahead_threads=1 sliced_threads=0 nr=0 decimate=1 interlaced=0 bluray_compat=0 constrained_intra=0 bframes=3 b_pyramid=2 b_adapt=1 b_bias=0 direct=1 weightb=1 open_gop=0 weightp=2 keyint=250 keyint_min=25 scenecut=40 intra_refresh=0 rc_lookahead=40 rc=abr mbtree=1 bitrate=5000 ratetol=1.0 qcomp=0.60 qpmin=0 qpmax=69 qpstep=4 ip_ratio=1.40 aq=1:1.00\n",
      "Output #0, mp4, to 'The_Hill_Gang_Rides_Again_formatOK.mp4':\n",
      "  Metadata:\n",
      "    major_brand     : mp42\n",
      "    minor_version   : 0\n",
      "    compatible_brands: mp42mp41\n",
      "    encoder         : Lavf60.16.100\n",
      "  Stream #0:0(eng): Video: h264 (avc1 / 0x31637661), yuv420p(progressive), 640x360 [SAR 1:1 DAR 16:9], q=2-31, 5000 kb/s, 25 fps, 12800 tbn (default)\n",
      "    Metadata:\n",
      "      creation_time   : 2021-08-02T18:46:51.000000Z\n",
      "      handler_name    : ?Mainconcept Video Media Handler\n",
      "      vendor_id       : [0][0][0][0]\n",
      "      encoder         : Lavc60.31.102 libx264\n",
      "    Side data:\n",
      "      cpb: bitrate max/min/avg: 0/0/5000000 buffer size: 0 vbv_delay: N/A\n",
      "  Stream #0:1(eng): Audio: aac (LC) (mp4a / 0x6134706D), 44100 Hz, stereo, fltp, 128 kb/s (default)\n",
      "    Metadata:\n",
      "      creation_time   : 2021-08-02T18:46:51.000000Z\n",
      "      handler_name    : #Mainconcept MP4 Sound Media Handler\n",
      "      vendor_id       : [0][0][0][0]\n",
      "      encoder         : Lavc60.31.102 aac\n",
      "\u001b[1;35m[out#0/mp4 @ 0x600001dd0a80] \u001b[0mvideo:12177kB audio:316kB subtitle:0kB other streams:0kB global headers:0kB muxing overhead: 0.142241%\n",
      "frame=  500 fps=354 q=-1.0 Lsize=   12511kB time=00:00:19.99 bitrate=5126.4kbits/s speed=14.2x    \n",
      "\u001b[1;36m[libx264 @ 0x143e08e30] \u001b[0mframe I:4     Avg QP: 2.97  size: 56756\n",
      "\u001b[1;36m[libx264 @ 0x143e08e30] \u001b[0mframe P:130   Avg QP: 3.34  size: 55102\n",
      "\u001b[1;36m[libx264 @ 0x143e08e30] \u001b[0mframe B:366   Avg QP: 6.68  size: 13875\n",
      "\u001b[1;36m[libx264 @ 0x143e08e30] \u001b[0mconsecutive B-frames:  2.0%  0.8%  1.2% 96.0%\n",
      "\u001b[1;36m[libx264 @ 0x143e08e30] \u001b[0mmb I  I16..4: 20.3% 21.7% 58.0%\n",
      "\u001b[1;36m[libx264 @ 0x143e08e30] \u001b[0mmb P  I16..4:  4.4% 11.6% 22.5%  P16..4: 18.7% 23.4% 18.3%  0.0%  0.0%    skip: 1.2%\n",
      "\u001b[1;36m[libx264 @ 0x143e08e30] \u001b[0mmb B  I16..4:  0.2%  0.6%  0.8%  B16..8: 37.4% 21.1% 14.9%  direct: 9.3%  skip:15.7%  L0:46.7% L1:40.8% BI:12.5%\n",
      "\u001b[1;36m[libx264 @ 0x143e08e30] \u001b[0mfinal ratefactor: 4.06\n",
      "\u001b[1;36m[libx264 @ 0x143e08e30] \u001b[0m8x8 transform intra:30.2% inter:20.4%\n",
      "\u001b[1;36m[libx264 @ 0x143e08e30] \u001b[0mcoded y,uvDC,uvAC intra: 96.0% 90.1% 89.2% inter: 56.3% 51.9% 41.1%\n",
      "\u001b[1;36m[libx264 @ 0x143e08e30] \u001b[0mi16 v,h,dc,p: 40% 15% 22% 23%\n",
      "\u001b[1;36m[libx264 @ 0x143e08e30] \u001b[0mi8 v,h,dc,ddl,ddr,vr,hd,vl,hu: 41% 18% 12%  3%  4%  5%  5%  5%  7%\n",
      "\u001b[1;36m[libx264 @ 0x143e08e30] \u001b[0mi4 v,h,dc,ddl,ddr,vr,hd,vl,hu: 32% 18% 14%  5%  7%  7%  6%  6%  6%\n",
      "\u001b[1;36m[libx264 @ 0x143e08e30] \u001b[0mi8c dc,h,v,p: 54% 13% 26%  8%\n",
      "\u001b[1;36m[libx264 @ 0x143e08e30] \u001b[0mWeighted P-Frames: Y:12.3% UV:9.2%\n",
      "\u001b[1;36m[libx264 @ 0x143e08e30] \u001b[0mref P L0: 78.5%  9.6%  9.1%  2.7%  0.2%\n",
      "\u001b[1;36m[libx264 @ 0x143e08e30] \u001b[0mref B L0: 96.8%  2.8%  0.4%\n",
      "\u001b[1;36m[libx264 @ 0x143e08e30] \u001b[0mref B L1: 98.8%  1.2%\n",
      "\u001b[1;36m[libx264 @ 0x143e08e30] \u001b[0mkb/s:4987.44\n",
      "\u001b[1;36m[aac @ 0x143e83330] \u001b[0mQavg: 11571.226\n"
     ]
    }
   ],
   "source": [
    "!ffmpeg -hide_banner -y -i The_Hill_Gang_Rides_Again.mp4 -b:v 5000k The_Hill_Gang_Rides_Again_formatOK.mp4"
   ]
  },
  {
   "cell_type": "markdown",
   "id": "feab5214",
   "metadata": {},
   "source": [
    "#### Before"
   ]
  },
  {
   "cell_type": "code",
   "execution_count": 12,
   "id": "14f45c58",
   "metadata": {},
   "outputs": [
    {
     "name": "stdout",
     "output_type": "stream",
     "text": [
      "Input #0, mov,mp4,m4a,3gp,3g2,mj2, from 'The_Hill_Gang_Rides_Again.mp4':\r\n",
      "  Metadata:\r\n",
      "    major_brand     : mp42\r\n",
      "    minor_version   : 0\r\n",
      "    compatible_brands: mp42mp41\r\n",
      "    creation_time   : 2021-08-02T18:46:51.000000Z\r\n",
      "  Duration: 00:00:20.00, start: 0.000000, bitrate: 7799 kb/s\r\n",
      "  Stream #0:0[0x1](eng): Video: h264 (Main) (avc1 / 0x31637661), yuv420p(progressive), 640x360 [SAR 1:1 DAR 16:9], 7537 kb/s, 25 fps, 25 tbr, 25k tbn (default)\r\n",
      "    Metadata:\r\n",
      "      creation_time   : 2021-08-02T18:46:51.000000Z\r\n",
      "      handler_name    : ?Mainconcept Video Media Handler\r\n",
      "      vendor_id       : [0][0][0][0]\r\n",
      "      encoder         : AVC Coding\r\n",
      "  Stream #0:1[0x2](eng): Audio: aac (LC) (mp4a / 0x6134706D), 44100 Hz, stereo, fltp, 253 kb/s (default)\r\n",
      "    Metadata:\r\n",
      "      creation_time   : 2021-08-02T18:46:51.000000Z\r\n",
      "      handler_name    : #Mainconcept MP4 Sound Media Handler\r\n",
      "      vendor_id       : [0][0][0][0]\r\n"
     ]
    }
   ],
   "source": [
    "!ffprobe The_Hill_Gang_Rides_Again.mp4 -hide_banner"
   ]
  },
  {
   "cell_type": "markdown",
   "id": "3b49007a",
   "metadata": {},
   "source": [
    "#### After"
   ]
  },
  {
   "cell_type": "code",
   "execution_count": 13,
   "id": "abaa247c",
   "metadata": {},
   "outputs": [
    {
     "name": "stdout",
     "output_type": "stream",
     "text": [
      "Input #0, mov,mp4,m4a,3gp,3g2,mj2, from 'The_Hill_Gang_Rides_Again_formatOK.mp4':\n",
      "  Metadata:\n",
      "    major_brand     : isom\n",
      "    minor_version   : 512\n",
      "    compatible_brands: isomiso2avc1mp41\n",
      "    encoder         : Lavf60.16.100\n",
      "  Duration: 00:00:20.02, start: 0.000000, bitrate: 5120 kb/s\n",
      "  Stream #0:0[0x1](eng): Video: h264 (High) (avc1 / 0x31637661), yuv420p(progressive), 640x360 [SAR 1:1 DAR 16:9], 4987 kb/s, 25 fps, 25 tbr, 12800 tbn (default)\n",
      "    Metadata:\n",
      "      handler_name    : ?Mainconcept Video Media Handler\n",
      "      vendor_id       : [0][0][0][0]\n",
      "      encoder         : Lavc60.31.102 libx264\n",
      "  Stream #0:1[0x2](eng): Audio: aac (LC) (mp4a / 0x6134706D), 44100 Hz, stereo, fltp, 129 kb/s (default)\n",
      "    Metadata:\n",
      "      handler_name    : #Mainconcept MP4 Sound Media Handler\n",
      "      vendor_id       : [0][0][0][0]\n"
     ]
    }
   ],
   "source": [
    "!ffprobe The_Hill_Gang_Rides_Again_formatOK.mp4 -hide_banner"
   ]
  },
  {
   "cell_type": "markdown",
   "id": "5b221b88",
   "metadata": {},
   "source": [
    "### Voyage_to_the_Planet_of_Prehistoric_Women.mp4\n",
    "For this video file, I converted the video codec, audio codec, frame rate, video bit rate and audio bit rate."
   ]
  },
  {
   "cell_type": "code",
   "execution_count": 14,
   "id": "109bbf5d",
   "metadata": {},
   "outputs": [
    {
     "name": "stdout",
     "output_type": "stream",
     "text": [
      "Input #0, mov,mp4,m4a,3gp,3g2,mj2, from 'Voyage_to_the_Planet_of_Prehistoric_Women.mp4':\n",
      "  Metadata:\n",
      "    major_brand     : mp42\n",
      "    minor_version   : 0\n",
      "    compatible_brands: mp42mp41\n",
      "    creation_time   : 2021-08-02T19:26:10.000000Z\n",
      "  Duration: 00:00:20.02, start: 0.000000, bitrate: 8365 kb/s\n",
      "  Stream #0:0[0x1](eng): Video: hevc (Main) (hvc1 / 0x31637668), yuv420p(tv, bt709), 640x360 [SAR 1:1 DAR 16:9], 8038 kb/s, 29.97 fps, 29.97 tbr, 30k tbn (default)\n",
      "    Metadata:\n",
      "      creation_time   : 2021-08-02T19:26:10.000000Z\n",
      "      handler_name    : ?Mainconcept Video Media Handler\n",
      "      vendor_id       : [0][0][0][0]\n",
      "      encoder         : HEVC Coding\n",
      "  Stream #0:1[0x2](eng): Audio: mp3 (mp4a / 0x6134706D), 48000 Hz, stereo, fltp, 320 kb/s (default)\n",
      "    Metadata:\n",
      "      creation_time   : 2021-08-02T19:26:10.000000Z\n",
      "      handler_name    : #Mainconcept MP4 Sound Media Handler\n",
      "      vendor_id       : [0][0][0][0]\n",
      "Stream mapping:\n",
      "  Stream #0:0 -> #0:0 (hevc (native) -> h264 (libx264))\n",
      "  Stream #0:1 -> #0:1 (mp3 (mp3float) -> aac (native))\n",
      "Press [q] to stop, [?] for help\n",
      "\u001b[1;36m[libx264 @ 0x12af08710] \u001b[0musing SAR=1/1\n",
      "\u001b[1;36m[libx264 @ 0x12af08710] \u001b[0musing cpu capabilities: ARMv8 NEON\n",
      "\u001b[1;36m[libx264 @ 0x12af08710] \u001b[0mprofile High, level 3.0, 4:2:0, 8-bit\n",
      "\u001b[1;36m[libx264 @ 0x12af08710] \u001b[0m264 - core 164 r3108 31e19f9 - H.264/MPEG-4 AVC codec - Copyleft 2003-2023 - http://www.videolan.org/x264.html - options: cabac=1 ref=3 deblock=1:0:0 analyse=0x3:0x113 me=hex subme=7 psy=1 psy_rd=1.00:0.00 mixed_ref=1 me_range=16 chroma_me=1 trellis=1 8x8dct=1 cqm=0 deadzone=21,11 fast_pskip=1 chroma_qp_offset=-2 threads=11 lookahead_threads=1 sliced_threads=0 nr=0 decimate=1 interlaced=0 bluray_compat=0 constrained_intra=0 bframes=3 b_pyramid=2 b_adapt=1 b_bias=0 direct=1 weightb=1 open_gop=0 weightp=2 keyint=250 keyint_min=25 scenecut=40 intra_refresh=0 rc_lookahead=40 rc=abr mbtree=1 bitrate=5000 ratetol=1.0 qcomp=0.60 qpmin=0 qpmax=69 qpstep=4 ip_ratio=1.40 aq=1:1.00\n",
      "Output #0, mp4, to 'Voyage_to_the_Planet_of_Prehistoric_Women_formatOK.mp4':\n",
      "  Metadata:\n",
      "    major_brand     : mp42\n",
      "    minor_version   : 0\n",
      "    compatible_brands: mp42mp41\n",
      "    encoder         : Lavf60.16.100\n",
      "  Stream #0:0(eng): Video: h264 (avc1 / 0x31637661), yuv420p(tv, bt709, progressive), 640x360 [SAR 1:1 DAR 16:9], q=2-31, 5000 kb/s, 25 fps, 12800 tbn (default)\n",
      "    Metadata:\n",
      "      creation_time   : 2021-08-02T19:26:10.000000Z\n",
      "      handler_name    : ?Mainconcept Video Media Handler\n",
      "      vendor_id       : [0][0][0][0]\n",
      "      encoder         : Lavc60.31.102 libx264\n",
      "    Side data:\n",
      "      cpb: bitrate max/min/avg: 0/0/5000000 buffer size: 0 vbv_delay: N/A\n",
      "  Stream #0:1(eng): Audio: aac (LC) (mp4a / 0x6134706D), 48000 Hz, stereo, fltp, 256 kb/s (default)\n",
      "    Metadata:\n",
      "      creation_time   : 2021-08-02T19:26:10.000000Z\n",
      "      handler_name    : #Mainconcept MP4 Sound Media Handler\n",
      "      vendor_id       : [0][0][0][0]\n",
      "      encoder         : Lavc60.31.102 aac\n",
      "\u001b[1;35m[out#0/mp4 @ 0x600000104780] \u001b[0mvideo:11775kB audio:594kB subtitle:0kB other streams:0kB global headers:0kB muxing overhead: 0.132396%\n",
      "frame=  502 fps=366 q=-1.0 Lsize=   12385kB time=00:00:20.03 bitrate=5064.6kbits/s dup=0 drop=98 speed=14.6x    \n",
      "\u001b[1;36m[libx264 @ 0x12af08710] \u001b[0mframe I:5     Avg QP: 2.52  size: 65417\n",
      "\u001b[1;36m[libx264 @ 0x12af08710] \u001b[0mframe P:129   Avg QP: 4.60  size: 51495\n",
      "\u001b[1;36m[libx264 @ 0x12af08710] \u001b[0mframe B:368   Avg QP: 7.83  size: 13822\n",
      "\u001b[1;36m[libx264 @ 0x12af08710] \u001b[0mconsecutive B-frames:  1.6%  0.4%  4.8% 93.2%\n",
      "\u001b[1;36m[libx264 @ 0x12af08710] \u001b[0mmb I  I16..4: 20.3% 27.0% 52.7%\n",
      "\u001b[1;36m[libx264 @ 0x12af08710] \u001b[0mmb P  I16..4:  4.8% 14.8% 16.2%  P16..4: 17.8% 20.0% 16.5%  0.0%  0.0%    skip: 9.9%\n",
      "\u001b[1;36m[libx264 @ 0x12af08710] \u001b[0mmb B  I16..4:  0.1%  0.9%  0.9%  B16..8: 37.9% 18.1% 13.4%  direct: 8.5%  skip:20.1%  L0:46.6% L1:39.2% BI:14.2%\n",
      "\u001b[1;36m[libx264 @ 0x12af08710] \u001b[0mfinal ratefactor: 5.31\n",
      "\u001b[1;36m[libx264 @ 0x12af08710] \u001b[0m8x8 transform intra:40.6% inter:32.2%\n",
      "\u001b[1;36m[libx264 @ 0x12af08710] \u001b[0mcoded y,uvDC,uvAC intra: 88.3% 95.4% 95.2% inter: 44.4% 64.3% 51.6%\n",
      "\u001b[1;36m[libx264 @ 0x12af08710] \u001b[0mi16 v,h,dc,p: 54% 14% 17% 15%\n",
      "\u001b[1;36m[libx264 @ 0x12af08710] \u001b[0mi8 v,h,dc,ddl,ddr,vr,hd,vl,hu: 26% 17% 19%  4%  6%  7%  5%  8%  7%\n",
      "\u001b[1;36m[libx264 @ 0x12af08710] \u001b[0mi4 v,h,dc,ddl,ddr,vr,hd,vl,hu: 25% 17% 16%  6%  8%  7%  6%  8%  6%\n",
      "\u001b[1;36m[libx264 @ 0x12af08710] \u001b[0mi8c dc,h,v,p: 48% 15% 23% 14%\n",
      "\u001b[1;36m[libx264 @ 0x12af08710] \u001b[0mWeighted P-Frames: Y:14.0% UV:9.3%\n",
      "\u001b[1;36m[libx264 @ 0x12af08710] \u001b[0mref P L0: 69.6% 14.2% 11.7%  3.9%  0.5%\n",
      "\u001b[1;36m[libx264 @ 0x12af08710] \u001b[0mref B L0: 95.2%  4.1%  0.6%\n",
      "\u001b[1;36m[libx264 @ 0x12af08710] \u001b[0mref B L1: 98.3%  1.7%\n",
      "\u001b[1;36m[libx264 @ 0x12af08710] \u001b[0mkb/s:4803.39\n",
      "\u001b[1;36m[aac @ 0x12af72d90] \u001b[0mQavg: 52140.383\n"
     ]
    }
   ],
   "source": [
    "!ffmpeg -hide_banner -y -i Voyage_to_the_Planet_of_Prehistoric_Women.mp4 -vcodec h264 -acodec aac -r 25 -b:v 5000k -b:a 256k Voyage_to_the_Planet_of_Prehistoric_Women_formatOK.mp4"
   ]
  },
  {
   "cell_type": "markdown",
   "id": "e94a0b69",
   "metadata": {},
   "source": [
    "#### Before"
   ]
  },
  {
   "cell_type": "code",
   "execution_count": 15,
   "id": "cd00a49f",
   "metadata": {},
   "outputs": [
    {
     "name": "stdout",
     "output_type": "stream",
     "text": [
      "Input #0, mov,mp4,m4a,3gp,3g2,mj2, from 'Voyage_to_the_Planet_of_Prehistoric_Women.mp4':\n",
      "  Metadata:\n",
      "    major_brand     : mp42\n",
      "    minor_version   : 0\n",
      "    compatible_brands: mp42mp41\n",
      "    creation_time   : 2021-08-02T19:26:10.000000Z\n",
      "  Duration: 00:00:20.02, start: 0.000000, bitrate: 8365 kb/s\n",
      "  Stream #0:0[0x1](eng): Video: hevc (Main) (hvc1 / 0x31637668), yuv420p(tv, bt709), 640x360 [SAR 1:1 DAR 16:9], 8038 kb/s, 29.97 fps, 29.97 tbr, 30k tbn (default)\n",
      "    Metadata:\n",
      "      creation_time   : 2021-08-02T19:26:10.000000Z\n",
      "      handler_name    : ?Mainconcept Video Media Handler\n",
      "      vendor_id       : [0][0][0][0]\n",
      "      encoder         : HEVC Coding\n",
      "  Stream #0:1[0x2](eng): Audio: mp3 (mp4a / 0x6134706D), 48000 Hz, stereo, fltp, 320 kb/s (default)\n",
      "    Metadata:\n",
      "      creation_time   : 2021-08-02T19:26:10.000000Z\n",
      "      handler_name    : #Mainconcept MP4 Sound Media Handler\n",
      "      vendor_id       : [0][0][0][0]\n"
     ]
    }
   ],
   "source": [
    "!ffprobe Voyage_to_the_Planet_of_Prehistoric_Women.mp4 -hide_banner"
   ]
  },
  {
   "cell_type": "markdown",
   "id": "4e861fdf",
   "metadata": {},
   "source": [
    "#### After"
   ]
  },
  {
   "cell_type": "code",
   "execution_count": 16,
   "id": "829dd122",
   "metadata": {},
   "outputs": [
    {
     "name": "stdout",
     "output_type": "stream",
     "text": [
      "Input #0, mov,mp4,m4a,3gp,3g2,mj2, from 'Voyage_to_the_Planet_of_Prehistoric_Women_formatOK.mp4':\n",
      "  Metadata:\n",
      "    major_brand     : isom\n",
      "    minor_version   : 512\n",
      "    compatible_brands: isomiso2avc1mp41\n",
      "    encoder         : Lavf60.16.100\n",
      "  Duration: 00:00:20.08, start: 0.000000, bitrate: 5052 kb/s\n",
      "  Stream #0:0[0x1](eng): Video: h264 (High) (avc1 / 0x31637661), yuv420p(tv, bt709, progressive), 640x360 [SAR 1:1 DAR 16:9], 4803 kb/s, 25 fps, 25 tbr, 12800 tbn (default)\n",
      "    Metadata:\n",
      "      handler_name    : ?Mainconcept Video Media Handler\n",
      "      vendor_id       : [0][0][0][0]\n",
      "      encoder         : Lavc60.31.102 libx264\n",
      "  Stream #0:1[0x2](eng): Audio: aac (LC) (mp4a / 0x6134706D), 48000 Hz, stereo, fltp, 242 kb/s (default)\n",
      "    Metadata:\n",
      "      handler_name    : #Mainconcept MP4 Sound Media Handler\n",
      "      vendor_id       : [0][0][0][0]\n"
     ]
    }
   ],
   "source": [
    "!ffprobe Voyage_to_the_Planet_of_Prehistoric_Women_formatOK.mp4 -hide_banner"
   ]
  }
 ],
 "metadata": {
  "kernelspec": {
   "display_name": "Python 3 (ipykernel)",
   "language": "python",
   "name": "python3"
  },
  "language_info": {
   "codemirror_mode": {
    "name": "ipython",
    "version": 3
   },
   "file_extension": ".py",
   "mimetype": "text/x-python",
   "name": "python",
   "nbconvert_exporter": "python",
   "pygments_lexer": "ipython3",
   "version": "3.11.5"
  }
 },
 "nbformat": 4,
 "nbformat_minor": 5
}
